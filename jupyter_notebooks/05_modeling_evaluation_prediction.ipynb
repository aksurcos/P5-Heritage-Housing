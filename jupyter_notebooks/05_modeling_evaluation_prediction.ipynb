{
 "cells": [
  {
   "cell_type": "markdown",
   "metadata": {
    "id": "0aStgWSO0E0E"
   },
   "source": [
    "# **Regression**"
   ]
  },
  {
   "cell_type": "markdown",
   "metadata": {
    "id": "1eLEkw5O0ECa"
   },
   "source": [
    "## Objectives\n",
    "\n",
    "* Fit and evaluate a \"Regression Model\" to predict \"SalePrice\"\n",
    "\n",
    "## Inputs\n",
    "\n",
    "* \"outputs/datasets/collection/cleaned/CleanedHousePrices.csv\"\n",
    "\n",
    "## Outputs\n",
    "\n",
    "**************************will be added at the end\n"
   ]
  },
  {
   "cell_type": "markdown",
   "metadata": {
    "id": "9uWZXH9LwoQg"
   },
   "source": [
    "---"
   ]
  },
  {
   "cell_type": "markdown",
   "metadata": {
    "id": "cqP-UeN-z3i2"
   },
   "source": [
    "# Change working directory"
   ]
  },
  {
   "cell_type": "markdown",
   "metadata": {},
   "source": [
    "* We are assuming you will store the notebooks in a subfolder, therefore when running the notebook in the editor, you will need to change the working directory"
   ]
  },
  {
   "cell_type": "markdown",
   "metadata": {
    "id": "aOGIGS-uz3i2"
   },
   "source": [
    "We need to change the working directory from its current folder to its parent folder\n",
    "* We access the current directory with os.getcwd()"
   ]
  },
  {
   "cell_type": "code",
   "execution_count": 1,
   "metadata": {
    "id": "wZfF_j-Bz3i4",
    "outputId": "66943449-1436-4c3d-85c7-b85f9f78349b"
   },
   "outputs": [
    {
     "data": {
      "text/plain": [
       "'/workspace/P5-Heritage-Housing/jupyter_notebooks'"
      ]
     },
     "execution_count": 1,
     "metadata": {},
     "output_type": "execute_result"
    }
   ],
   "source": [
    "import os\n",
    "current_dir = os.getcwd()\n",
    "current_dir"
   ]
  },
  {
   "cell_type": "markdown",
   "metadata": {
    "id": "9MWW8E7lz3i7"
   },
   "source": [
    "We want to make the parent of the current directory the new current directory\n",
    "* os.path.dirname() gets the parent directory\n",
    "* os.chir() defines the new current directory"
   ]
  },
  {
   "cell_type": "code",
   "execution_count": 2,
   "metadata": {
    "id": "TwHsQRWjz3i9",
    "outputId": "86849db3-cd2f-4cc5-ebb8-2d0caafa1a2c"
   },
   "outputs": [
    {
     "name": "stdout",
     "output_type": "stream",
     "text": [
      "You set a new current directory\n"
     ]
    }
   ],
   "source": [
    "os.chdir(os.path.dirname(current_dir))\n",
    "print(\"You set a new current directory\")"
   ]
  },
  {
   "cell_type": "markdown",
   "metadata": {
    "id": "M_xPk_Ijz3i-"
   },
   "source": [
    "Confirm the new current directory"
   ]
  },
  {
   "cell_type": "code",
   "execution_count": 3,
   "metadata": {
    "id": "vz3S-_kjz3jA",
    "outputId": "00b79ae4-75d0-4a96-d193-ac9ef9847ea2"
   },
   "outputs": [
    {
     "data": {
      "text/plain": [
       "'/workspace/P5-Heritage-Housing'"
      ]
     },
     "execution_count": 3,
     "metadata": {},
     "output_type": "execute_result"
    }
   ],
   "source": [
    "current_dir = os.getcwd()\n",
    "current_dir"
   ]
  },
  {
   "cell_type": "markdown",
   "metadata": {
    "id": "-mavJ8DibrcQ"
   },
   "source": [
    "# Loading of Data"
   ]
  },
  {
   "cell_type": "code",
   "execution_count": 4,
   "metadata": {},
   "outputs": [
    {
     "name": "stdout",
     "output_type": "stream",
     "text": [
      "(1460, 22)\n"
     ]
    },
    {
     "data": {
      "text/html": [
       "<div>\n",
       "<style scoped>\n",
       "    .dataframe tbody tr th:only-of-type {\n",
       "        vertical-align: middle;\n",
       "    }\n",
       "\n",
       "    .dataframe tbody tr th {\n",
       "        vertical-align: top;\n",
       "    }\n",
       "\n",
       "    .dataframe thead th {\n",
       "        text-align: right;\n",
       "    }\n",
       "</style>\n",
       "<table border=\"1\" class=\"dataframe\">\n",
       "  <thead>\n",
       "    <tr style=\"text-align: right;\">\n",
       "      <th></th>\n",
       "      <th>1stFlrSF</th>\n",
       "      <th>2ndFlrSF</th>\n",
       "      <th>BedroomAbvGr</th>\n",
       "      <th>BsmtExposure</th>\n",
       "      <th>BsmtFinSF1</th>\n",
       "      <th>BsmtFinType1</th>\n",
       "      <th>BsmtUnfSF</th>\n",
       "      <th>GarageArea</th>\n",
       "      <th>GarageFinish</th>\n",
       "      <th>GarageYrBlt</th>\n",
       "      <th>...</th>\n",
       "      <th>LotArea</th>\n",
       "      <th>LotFrontage</th>\n",
       "      <th>MasVnrArea</th>\n",
       "      <th>OpenPorchSF</th>\n",
       "      <th>OverallCond</th>\n",
       "      <th>OverallQual</th>\n",
       "      <th>TotalBsmtSF</th>\n",
       "      <th>YearBuilt</th>\n",
       "      <th>YearRemodAdd</th>\n",
       "      <th>SalePrice</th>\n",
       "    </tr>\n",
       "  </thead>\n",
       "  <tbody>\n",
       "    <tr>\n",
       "      <th>0</th>\n",
       "      <td>856</td>\n",
       "      <td>854.0</td>\n",
       "      <td>3.0</td>\n",
       "      <td>No</td>\n",
       "      <td>706</td>\n",
       "      <td>GLQ</td>\n",
       "      <td>150</td>\n",
       "      <td>548</td>\n",
       "      <td>RFn</td>\n",
       "      <td>2003.0</td>\n",
       "      <td>...</td>\n",
       "      <td>8450</td>\n",
       "      <td>65.0</td>\n",
       "      <td>196.0</td>\n",
       "      <td>61</td>\n",
       "      <td>5</td>\n",
       "      <td>7</td>\n",
       "      <td>856</td>\n",
       "      <td>2003</td>\n",
       "      <td>2003</td>\n",
       "      <td>208500</td>\n",
       "    </tr>\n",
       "    <tr>\n",
       "      <th>1</th>\n",
       "      <td>1262</td>\n",
       "      <td>0.0</td>\n",
       "      <td>3.0</td>\n",
       "      <td>Gd</td>\n",
       "      <td>978</td>\n",
       "      <td>ALQ</td>\n",
       "      <td>284</td>\n",
       "      <td>460</td>\n",
       "      <td>RFn</td>\n",
       "      <td>1976.0</td>\n",
       "      <td>...</td>\n",
       "      <td>9600</td>\n",
       "      <td>80.0</td>\n",
       "      <td>0.0</td>\n",
       "      <td>0</td>\n",
       "      <td>8</td>\n",
       "      <td>6</td>\n",
       "      <td>1262</td>\n",
       "      <td>1976</td>\n",
       "      <td>1976</td>\n",
       "      <td>181500</td>\n",
       "    </tr>\n",
       "    <tr>\n",
       "      <th>2</th>\n",
       "      <td>920</td>\n",
       "      <td>866.0</td>\n",
       "      <td>3.0</td>\n",
       "      <td>Mn</td>\n",
       "      <td>486</td>\n",
       "      <td>GLQ</td>\n",
       "      <td>434</td>\n",
       "      <td>608</td>\n",
       "      <td>RFn</td>\n",
       "      <td>2001.0</td>\n",
       "      <td>...</td>\n",
       "      <td>11250</td>\n",
       "      <td>68.0</td>\n",
       "      <td>162.0</td>\n",
       "      <td>42</td>\n",
       "      <td>5</td>\n",
       "      <td>7</td>\n",
       "      <td>920</td>\n",
       "      <td>2001</td>\n",
       "      <td>2002</td>\n",
       "      <td>223500</td>\n",
       "    </tr>\n",
       "  </tbody>\n",
       "</table>\n",
       "<p>3 rows × 22 columns</p>\n",
       "</div>"
      ],
      "text/plain": [
       "   1stFlrSF  2ndFlrSF  BedroomAbvGr BsmtExposure  BsmtFinSF1 BsmtFinType1  \\\n",
       "0       856     854.0           3.0           No         706          GLQ   \n",
       "1      1262       0.0           3.0           Gd         978          ALQ   \n",
       "2       920     866.0           3.0           Mn         486          GLQ   \n",
       "\n",
       "   BsmtUnfSF  GarageArea GarageFinish  GarageYrBlt  ...  LotArea LotFrontage  \\\n",
       "0        150         548          RFn       2003.0  ...     8450        65.0   \n",
       "1        284         460          RFn       1976.0  ...     9600        80.0   \n",
       "2        434         608          RFn       2001.0  ...    11250        68.0   \n",
       "\n",
       "   MasVnrArea  OpenPorchSF  OverallCond  OverallQual  TotalBsmtSF  YearBuilt  \\\n",
       "0       196.0           61            5            7          856       2003   \n",
       "1         0.0            0            8            6         1262       1976   \n",
       "2       162.0           42            5            7          920       2001   \n",
       "\n",
       "   YearRemodAdd  SalePrice  \n",
       "0          2003     208500  \n",
       "1          1976     181500  \n",
       "2          2002     223500  \n",
       "\n",
       "[3 rows x 22 columns]"
      ]
     },
     "execution_count": 4,
     "metadata": {},
     "output_type": "execute_result"
    }
   ],
   "source": [
    "import numpy as np\n",
    "import pandas as pd\n",
    "cleaned_house_prices_df = pd.read_csv(\"/workspace/P5-Heritage-Housing/outputs/datasets/collection/cleaned/CleanedHousePrices.csv\")\n",
    "print(cleaned_house_prices_df.shape)\n",
    "cleaned_house_prices_df.head(3)"
   ]
  },
  {
   "cell_type": "markdown",
   "metadata": {
    "id": "ZY3l0-AxO93d"
   },
   "source": [
    "---"
   ]
  },
  {
   "cell_type": "markdown",
   "metadata": {
    "id": "uFQo3ycuO-v6"
   },
   "source": [
    "# ML Pipeline: Regressor\n",
    "\n",
    "## Creation of ML Pipeline\n",
    "\n",
    "### Packages"
   ]
  },
  {
   "cell_type": "code",
   "execution_count": 5,
   "metadata": {},
   "outputs": [],
   "source": [
    "# For Feature Engineering\n",
    "from feature_engine.encoding import OrdinalEncoder\n",
    "from feature_engine import transformation as vt\n",
    "from feature_engine.selection import SmartCorrelatedSelection\n",
    "\n",
    "# For Feature Scaling\n",
    "from sklearn.preprocessing import StandardScaler\n",
    "\n",
    "# For Feature Selection\n",
    "from sklearn.feature_selection import SelectFromModel\n",
    "\n",
    "# For ML Algorithms\n",
    "from sklearn.tree import DecisionTreeRegressor\n",
    "from sklearn.pipeline import Pipeline\n",
    "from xgboost import XGBRegressor\n",
    "from sklearn.ensemble import GradientBoostingRegressor, RandomForestRegressor\n",
    "from sklearn.linear_model import LinearRegression\n",
    "from sklearn.ensemble import AdaBoostRegressor\n",
    "from sklearn.ensemble import ExtraTreesRegressor"
   ]
  },
  {
   "cell_type": "code",
   "execution_count": 6,
   "metadata": {},
   "outputs": [],
   "source": [
    "def PipelineOptimization(model):\n",
    "    pipeline_base = Pipeline([\n",
    "\n",
    "        (\"OrdinalCategoricalEncoder\", OrdinalEncoder(encoding_method='arbitrary',\n",
    "                                                 variables=['KitchenQual', 'GarageFinish', 'BsmtFinType1', 'BsmtExposure'])),\n",
    "\n",
    "        (\"YeoJohnsonTransformer\", vt.YeoJohnsonTransformer(variables=['1stFlrSF', 'GrLivArea', 'LotArea', 'LotFrontage'])),\n",
    "\n",
    "        (\"SmartCorrelatedSelection\", SmartCorrelatedSelection(variables=None, method=\"spearman\", threshold=0.6, selection_method=\"variance\")),\n",
    "\n",
    "        (\"feat_scaling\", StandardScaler()),\n",
    "\n",
    "        (\"feat_selection\",  SelectFromModel(model)),\n",
    "\n",
    "        (\"model\", model),\n",
    "\n",
    "    ])\n",
    "\n",
    "    return pipeline_base"
   ]
  },
  {
   "cell_type": "markdown",
   "metadata": {},
   "source": [
    "---"
   ]
  },
  {
   "cell_type": "markdown",
   "metadata": {},
   "source": [
    "### Hyperparameter Optimization\n",
    "\n",
    "- Custom Class is taken from \"Scikit-Learn Unit 9B: NLP(Natural Language Processing) Best Algoritm Hyperparameters\" lesson."
   ]
  },
  {
   "cell_type": "code",
   "execution_count": 7,
   "metadata": {},
   "outputs": [],
   "source": [
    "from sklearn.model_selection import GridSearchCV\n",
    "\n",
    "\n",
    "class HyperparameterOptimizationSearch:\n",
    "\n",
    "    def __init__(self, models, params):\n",
    "        self.models = models\n",
    "        self.params = params\n",
    "        self.keys = models.keys()\n",
    "        self.grid_searches = {}\n",
    "\n",
    "    def fit(self, X, y, cv, n_jobs, verbose=1, scoring=None, refit=False):\n",
    "        for key in self.keys:\n",
    "            print(f\"\\nRunning GridSearchCV for {key} \\n\")\n",
    "            model = PipelineOptimization(self.models[key])\n",
    "\n",
    "            params = self.params[key]\n",
    "            gs = GridSearchCV(model, params, cv=cv, n_jobs=n_jobs,\n",
    "                              verbose=verbose, scoring=scoring)\n",
    "            gs.fit(X, y)\n",
    "            self.grid_searches[key] = gs\n",
    "\n",
    "    def score_summary(self, sort_by='mean_score'):\n",
    "        def row(key, scores, params):\n",
    "            d = {\n",
    "                'estimator': key,\n",
    "                'min_score': min(scores),\n",
    "                'max_score': max(scores),\n",
    "                'mean_score': np.mean(scores),\n",
    "                'std_score': np.std(scores),\n",
    "            }\n",
    "            return pd.Series({**params, **d})\n",
    "\n",
    "        rows = []\n",
    "        for k in self.grid_searches:\n",
    "            params = self.grid_searches[k].cv_results_['params']\n",
    "            scores = []\n",
    "            for i in range(self.grid_searches[k].cv):\n",
    "                key = \"split{}_test_score\".format(i)\n",
    "                r = self.grid_searches[k].cv_results_[key]\n",
    "                scores.append(r.reshape(len(params), 1))\n",
    "\n",
    "            all_scores = np.hstack(scores)\n",
    "            for p, s in zip(params, all_scores):\n",
    "                rows.append((row(k, s, p)))\n",
    "\n",
    "        df = pd.concat(rows, axis=1).T.sort_values([sort_by], ascending=False)\n",
    "\n",
    "        columns = ['estimator', 'min_score',\n",
    "                   'mean_score', 'max_score', 'std_score']\n",
    "        columns = columns + [c for c in df.columns if c not in columns]\n",
    "\n",
    "        return df[columns], self.grid_searches"
   ]
  },
  {
   "cell_type": "markdown",
   "metadata": {},
   "source": [
    "### Splitting Dataset to TrainSet and TestSet"
   ]
  },
  {
   "cell_type": "code",
   "execution_count": 8,
   "metadata": {},
   "outputs": [
    {
     "name": "stdout",
     "output_type": "stream",
     "text": [
      "* TrainSet: (1168, 21) (1168,) \n",
      "* TestSet: (292, 21) (292,)\n"
     ]
    }
   ],
   "source": [
    "from sklearn.model_selection import train_test_split\n",
    "X_train, X_test, y_train, y_test = train_test_split(\n",
    "    cleaned_house_prices_df.drop(['SalePrice'], axis=1),\n",
    "    cleaned_house_prices_df['SalePrice'],\n",
    "    test_size=0.2,\n",
    "    random_state=0\n",
    ")\n",
    "\n",
    "print(\"* TrainSet:\", X_train.shape, y_train.shape,\n",
    "      \"\\n* TestSet:\",  X_test.shape, y_test.shape)"
   ]
  },
  {
   "cell_type": "markdown",
   "metadata": {},
   "source": [
    "### Grid Search CV\n",
    "\n",
    "- GridSearchCV is a tool in scikit-learn library used to find the best hyperparameters for a model."
   ]
  },
  {
   "cell_type": "code",
   "execution_count": 11,
   "metadata": {},
   "outputs": [],
   "source": [
    "models_crude_search = {\n",
    "    'LinearRegression': LinearRegression(),\n",
    "    \"DecisionTreeRegressor\": DecisionTreeRegressor(random_state=0),\n",
    "    \"RandomForestRegressor\": RandomForestRegressor(random_state=0),\n",
    "    \"ExtraTreesRegressor\": ExtraTreesRegressor(random_state=0),\n",
    "    \"AdaBoostRegressor\": AdaBoostRegressor(random_state=0),\n",
    "    \"GradientBoostingRegressor\": GradientBoostingRegressor(random_state=0),\n",
    "    \"XGBRegressor\": XGBRegressor(random_state=0),\n",
    "}\n",
    "\n",
    "params_crude_search = {\n",
    "    'LinearRegression': {},\n",
    "    \"DecisionTreeRegressor\": {},\n",
    "    \"RandomForestRegressor\": {},\n",
    "    \"ExtraTreesRegressor\": {},\n",
    "    \"AdaBoostRegressor\": {},\n",
    "    \"GradientBoostingRegressor\": {},\n",
    "    \"XGBRegressor\": {},\n",
    "}"
   ]
  },
  {
   "cell_type": "markdown",
   "metadata": {},
   "source": [
    "#### Comprehensive Searching"
   ]
  },
  {
   "cell_type": "code",
   "execution_count": 13,
   "metadata": {},
   "outputs": [
    {
     "name": "stdout",
     "output_type": "stream",
     "text": [
      "\n",
      "Running GridSearchCV for LinearRegression \n",
      "\n",
      "Fitting 5 folds for each of 1 candidates, totalling 5 fits\n",
      "\n",
      "Running GridSearchCV for DecisionTreeRegressor \n",
      "\n",
      "Fitting 5 folds for each of 1 candidates, totalling 5 fits\n",
      "\n",
      "Running GridSearchCV for RandomForestRegressor \n",
      "\n",
      "Fitting 5 folds for each of 1 candidates, totalling 5 fits\n",
      "\n",
      "Running GridSearchCV for ExtraTreesRegressor \n",
      "\n",
      "Fitting 5 folds for each of 1 candidates, totalling 5 fits\n",
      "\n",
      "Running GridSearchCV for AdaBoostRegressor \n",
      "\n",
      "Fitting 5 folds for each of 1 candidates, totalling 5 fits\n",
      "\n",
      "Running GridSearchCV for GradientBoostingRegressor \n",
      "\n",
      "Fitting 5 folds for each of 1 candidates, totalling 5 fits\n",
      "\n",
      "Running GridSearchCV for XGBRegressor \n",
      "\n",
      "Fitting 5 folds for each of 1 candidates, totalling 5 fits\n"
     ]
    }
   ],
   "source": [
    "crude_search = HyperparameterOptimizationSearch(models=models_crude_search, params=params_crude_search)\n",
    "crude_search.fit(X_train, y_train, scoring='r2', n_jobs=-1, cv=5)"
   ]
  },
  {
   "cell_type": "code",
   "execution_count": 14,
   "metadata": {},
   "outputs": [
    {
     "data": {
      "text/html": [
       "<div>\n",
       "<style scoped>\n",
       "    .dataframe tbody tr th:only-of-type {\n",
       "        vertical-align: middle;\n",
       "    }\n",
       "\n",
       "    .dataframe tbody tr th {\n",
       "        vertical-align: top;\n",
       "    }\n",
       "\n",
       "    .dataframe thead th {\n",
       "        text-align: right;\n",
       "    }\n",
       "</style>\n",
       "<table border=\"1\" class=\"dataframe\">\n",
       "  <thead>\n",
       "    <tr style=\"text-align: right;\">\n",
       "      <th></th>\n",
       "      <th>estimator</th>\n",
       "      <th>min_score</th>\n",
       "      <th>mean_score</th>\n",
       "      <th>max_score</th>\n",
       "      <th>std_score</th>\n",
       "    </tr>\n",
       "  </thead>\n",
       "  <tbody>\n",
       "    <tr>\n",
       "      <th>5</th>\n",
       "      <td>GradientBoostingRegressor</td>\n",
       "      <td>0.643137</td>\n",
       "      <td>0.772857</td>\n",
       "      <td>0.834133</td>\n",
       "      <td>0.067405</td>\n",
       "    </tr>\n",
       "    <tr>\n",
       "      <th>3</th>\n",
       "      <td>ExtraTreesRegressor</td>\n",
       "      <td>0.682734</td>\n",
       "      <td>0.766507</td>\n",
       "      <td>0.805553</td>\n",
       "      <td>0.042962</td>\n",
       "    </tr>\n",
       "    <tr>\n",
       "      <th>2</th>\n",
       "      <td>RandomForestRegressor</td>\n",
       "      <td>0.618654</td>\n",
       "      <td>0.762363</td>\n",
       "      <td>0.822354</td>\n",
       "      <td>0.073567</td>\n",
       "    </tr>\n",
       "    <tr>\n",
       "      <th>0</th>\n",
       "      <td>LinearRegression</td>\n",
       "      <td>0.7225</td>\n",
       "      <td>0.761412</td>\n",
       "      <td>0.830006</td>\n",
       "      <td>0.038917</td>\n",
       "    </tr>\n",
       "    <tr>\n",
       "      <th>4</th>\n",
       "      <td>AdaBoostRegressor</td>\n",
       "      <td>0.507389</td>\n",
       "      <td>0.673009</td>\n",
       "      <td>0.789042</td>\n",
       "      <td>0.098587</td>\n",
       "    </tr>\n",
       "    <tr>\n",
       "      <th>6</th>\n",
       "      <td>XGBRegressor</td>\n",
       "      <td>0.554363</td>\n",
       "      <td>0.653108</td>\n",
       "      <td>0.710833</td>\n",
       "      <td>0.056162</td>\n",
       "    </tr>\n",
       "    <tr>\n",
       "      <th>1</th>\n",
       "      <td>DecisionTreeRegressor</td>\n",
       "      <td>0.355924</td>\n",
       "      <td>0.531838</td>\n",
       "      <td>0.650633</td>\n",
       "      <td>0.111503</td>\n",
       "    </tr>\n",
       "  </tbody>\n",
       "</table>\n",
       "</div>"
      ],
      "text/plain": [
       "                   estimator min_score mean_score max_score std_score\n",
       "5  GradientBoostingRegressor  0.643137   0.772857  0.834133  0.067405\n",
       "3        ExtraTreesRegressor  0.682734   0.766507  0.805553  0.042962\n",
       "2      RandomForestRegressor  0.618654   0.762363  0.822354  0.073567\n",
       "0           LinearRegression    0.7225   0.761412  0.830006  0.038917\n",
       "4          AdaBoostRegressor  0.507389   0.673009  0.789042  0.098587\n",
       "6               XGBRegressor  0.554363   0.653108  0.710833  0.056162\n",
       "1      DecisionTreeRegressor  0.355924   0.531838  0.650633  0.111503"
      ]
     },
     "execution_count": 14,
     "metadata": {},
     "output_type": "execute_result"
    }
   ],
   "source": [
    "grid_search_summary, grid_search_pipelines = crude_search.score_summary(sort_by='mean_score')\n",
    "grid_search_summary"
   ]
  },
  {
   "cell_type": "markdown",
   "metadata": {},
   "source": [
    "- A more extensive parameter search can be performed for the best performing models. Here is a detailed comprehensive search definition:"
   ]
  },
  {
   "cell_type": "code",
   "execution_count": 25,
   "metadata": {},
   "outputs": [],
   "source": [
    "models_extensive_search = {\n",
    "    \"ExtraTreesRegressor\": ExtraTreesRegressor(random_state=0),\n",
    "    \"GradientBoostingRegressor\": GradientBoostingRegressor(random_state=0),\n",
    "    'LinearRegression': LinearRegression(),\n",
    "    \"RandomForestRegressor\": RandomForestRegressor(random_state=0),\n",
    "}\n",
    "\n",
    "params_extensive_search = {\n",
    "    \"GradientBoostingRegressor\": {\n",
    "        'model__n_estimators': [50, 100],\n",
    "        'model__max_depth': [3,7,10],\n",
    "        'model__min_samples_split': [5,7],\n",
    "\n",
    "    },\n",
    "\n",
    "    \"ExtraTreesRegressor\":{\n",
    "        'model__n_estimators': [7],\n",
    "        'model__max_depth': [3,7],\n",
    "        'model__min_samples_split': [4,5,7],\n",
    "    },\n",
    "    \n",
    "    'LinearRegression': {},\n",
    "    \n",
    "    \"RandomForestRegressor\": {\n",
    "        'model__n_estimators': [7],\n",
    "        'model__max_depth': [3,7,10],\n",
    "        'model__min_samples_split': [4,5,7],\n",
    "    },\n",
    "}"
   ]
  },
  {
   "cell_type": "code",
   "execution_count": 26,
   "metadata": {},
   "outputs": [
    {
     "name": "stdout",
     "output_type": "stream",
     "text": [
      "\n",
      "Running GridSearchCV for ExtraTreesRegressor \n",
      "\n",
      "Fitting 6 folds for each of 6 candidates, totalling 36 fits\n"
     ]
    },
    {
     "name": "stdout",
     "output_type": "stream",
     "text": [
      "\n",
      "Running GridSearchCV for GradientBoostingRegressor \n",
      "\n",
      "Fitting 6 folds for each of 12 candidates, totalling 72 fits\n",
      "\n",
      "Running GridSearchCV for LinearRegression \n",
      "\n",
      "Fitting 6 folds for each of 1 candidates, totalling 6 fits\n",
      "\n",
      "Running GridSearchCV for RandomForestRegressor \n",
      "\n",
      "Fitting 6 folds for each of 9 candidates, totalling 54 fits\n"
     ]
    }
   ],
   "source": [
    "search = HyperparameterOptimizationSearch(models=models_extensive_search, params=params_extensive_search)\n",
    "search.fit(X_train, y_train, scoring = 'r2', n_jobs=-1, cv=6)"
   ]
  },
  {
   "cell_type": "code",
   "execution_count": 33,
   "metadata": {},
   "outputs": [
    {
     "data": {
      "text/html": [
       "<div>\n",
       "<style scoped>\n",
       "    .dataframe tbody tr th:only-of-type {\n",
       "        vertical-align: middle;\n",
       "    }\n",
       "\n",
       "    .dataframe tbody tr th {\n",
       "        vertical-align: top;\n",
       "    }\n",
       "\n",
       "    .dataframe thead th {\n",
       "        text-align: right;\n",
       "    }\n",
       "</style>\n",
       "<table border=\"1\" class=\"dataframe\">\n",
       "  <thead>\n",
       "    <tr style=\"text-align: right;\">\n",
       "      <th></th>\n",
       "      <th>estimator</th>\n",
       "      <th>min_score</th>\n",
       "      <th>mean_score</th>\n",
       "      <th>max_score</th>\n",
       "      <th>std_score</th>\n",
       "      <th>model__max_depth</th>\n",
       "      <th>model__min_samples_split</th>\n",
       "      <th>model__n_estimators</th>\n",
       "    </tr>\n",
       "  </thead>\n",
       "  <tbody>\n",
       "    <tr>\n",
       "      <th>12</th>\n",
       "      <td>GradientBoostingRegressor</td>\n",
       "      <td>0.610738</td>\n",
       "      <td>0.760618</td>\n",
       "      <td>0.807907</td>\n",
       "      <td>0.067881</td>\n",
       "      <td>7</td>\n",
       "      <td>7</td>\n",
       "      <td>50</td>\n",
       "    </tr>\n",
       "    <tr>\n",
       "      <th>6</th>\n",
       "      <td>GradientBoostingRegressor</td>\n",
       "      <td>0.528962</td>\n",
       "      <td>0.755841</td>\n",
       "      <td>0.822732</td>\n",
       "      <td>0.103223</td>\n",
       "      <td>3</td>\n",
       "      <td>5</td>\n",
       "      <td>50</td>\n",
       "    </tr>\n",
       "    <tr>\n",
       "      <th>8</th>\n",
       "      <td>GradientBoostingRegressor</td>\n",
       "      <td>0.528962</td>\n",
       "      <td>0.755424</td>\n",
       "      <td>0.822732</td>\n",
       "      <td>0.102862</td>\n",
       "      <td>3</td>\n",
       "      <td>7</td>\n",
       "      <td>50</td>\n",
       "    </tr>\n",
       "    <tr>\n",
       "      <th>13</th>\n",
       "      <td>GradientBoostingRegressor</td>\n",
       "      <td>0.59896</td>\n",
       "      <td>0.754889</td>\n",
       "      <td>0.810252</td>\n",
       "      <td>0.07106</td>\n",
       "      <td>7</td>\n",
       "      <td>7</td>\n",
       "      <td>100</td>\n",
       "    </tr>\n",
       "    <tr>\n",
       "      <th>10</th>\n",
       "      <td>GradientBoostingRegressor</td>\n",
       "      <td>0.598433</td>\n",
       "      <td>0.75486</td>\n",
       "      <td>0.816733</td>\n",
       "      <td>0.071386</td>\n",
       "      <td>7</td>\n",
       "      <td>5</td>\n",
       "      <td>50</td>\n",
       "    </tr>\n",
       "    <tr>\n",
       "      <th>11</th>\n",
       "      <td>GradientBoostingRegressor</td>\n",
       "      <td>0.591726</td>\n",
       "      <td>0.750328</td>\n",
       "      <td>0.815616</td>\n",
       "      <td>0.072757</td>\n",
       "      <td>7</td>\n",
       "      <td>5</td>\n",
       "      <td>100</td>\n",
       "    </tr>\n",
       "    <tr>\n",
       "      <th>18</th>\n",
       "      <td>LinearRegression</td>\n",
       "      <td>0.616022</td>\n",
       "      <td>0.74968</td>\n",
       "      <td>0.817007</td>\n",
       "      <td>0.06982</td>\n",
       "      <td>NaN</td>\n",
       "      <td>NaN</td>\n",
       "      <td>NaN</td>\n",
       "    </tr>\n",
       "    <tr>\n",
       "      <th>16</th>\n",
       "      <td>GradientBoostingRegressor</td>\n",
       "      <td>0.627971</td>\n",
       "      <td>0.747726</td>\n",
       "      <td>0.803854</td>\n",
       "      <td>0.057732</td>\n",
       "      <td>10</td>\n",
       "      <td>7</td>\n",
       "      <td>50</td>\n",
       "    </tr>\n",
       "    <tr>\n",
       "      <th>17</th>\n",
       "      <td>GradientBoostingRegressor</td>\n",
       "      <td>0.624305</td>\n",
       "      <td>0.745066</td>\n",
       "      <td>0.805475</td>\n",
       "      <td>0.059174</td>\n",
       "      <td>10</td>\n",
       "      <td>7</td>\n",
       "      <td>100</td>\n",
       "    </tr>\n",
       "    <tr>\n",
       "      <th>7</th>\n",
       "      <td>GradientBoostingRegressor</td>\n",
       "      <td>0.486392</td>\n",
       "      <td>0.744606</td>\n",
       "      <td>0.831732</td>\n",
       "      <td>0.116949</td>\n",
       "      <td>3</td>\n",
       "      <td>5</td>\n",
       "      <td>100</td>\n",
       "    </tr>\n",
       "    <tr>\n",
       "      <th>9</th>\n",
       "      <td>GradientBoostingRegressor</td>\n",
       "      <td>0.468154</td>\n",
       "      <td>0.743108</td>\n",
       "      <td>0.83038</td>\n",
       "      <td>0.124035</td>\n",
       "      <td>3</td>\n",
       "      <td>7</td>\n",
       "      <td>100</td>\n",
       "    </tr>\n",
       "    <tr>\n",
       "      <th>4</th>\n",
       "      <td>ExtraTreesRegressor</td>\n",
       "      <td>0.613385</td>\n",
       "      <td>0.737436</td>\n",
       "      <td>0.808502</td>\n",
       "      <td>0.060008</td>\n",
       "      <td>7</td>\n",
       "      <td>5</td>\n",
       "      <td>7</td>\n",
       "    </tr>\n",
       "    <tr>\n",
       "      <th>14</th>\n",
       "      <td>GradientBoostingRegressor</td>\n",
       "      <td>0.590687</td>\n",
       "      <td>0.731321</td>\n",
       "      <td>0.784601</td>\n",
       "      <td>0.066112</td>\n",
       "      <td>10</td>\n",
       "      <td>5</td>\n",
       "      <td>50</td>\n",
       "    </tr>\n",
       "    <tr>\n",
       "      <th>15</th>\n",
       "      <td>GradientBoostingRegressor</td>\n",
       "      <td>0.585464</td>\n",
       "      <td>0.728592</td>\n",
       "      <td>0.785151</td>\n",
       "      <td>0.067492</td>\n",
       "      <td>10</td>\n",
       "      <td>5</td>\n",
       "      <td>100</td>\n",
       "    </tr>\n",
       "    <tr>\n",
       "      <th>3</th>\n",
       "      <td>ExtraTreesRegressor</td>\n",
       "      <td>0.570455</td>\n",
       "      <td>0.726893</td>\n",
       "      <td>0.777038</td>\n",
       "      <td>0.071549</td>\n",
       "      <td>7</td>\n",
       "      <td>4</td>\n",
       "      <td>7</td>\n",
       "    </tr>\n",
       "    <tr>\n",
       "      <th>5</th>\n",
       "      <td>ExtraTreesRegressor</td>\n",
       "      <td>0.598037</td>\n",
       "      <td>0.721298</td>\n",
       "      <td>0.774648</td>\n",
       "      <td>0.062765</td>\n",
       "      <td>7</td>\n",
       "      <td>7</td>\n",
       "      <td>7</td>\n",
       "    </tr>\n",
       "    <tr>\n",
       "      <th>27</th>\n",
       "      <td>RandomForestRegressor</td>\n",
       "      <td>0.544448</td>\n",
       "      <td>0.698383</td>\n",
       "      <td>0.79</td>\n",
       "      <td>0.075904</td>\n",
       "      <td>10</td>\n",
       "      <td>7</td>\n",
       "      <td>7</td>\n",
       "    </tr>\n",
       "    <tr>\n",
       "      <th>24</th>\n",
       "      <td>RandomForestRegressor</td>\n",
       "      <td>0.526935</td>\n",
       "      <td>0.697971</td>\n",
       "      <td>0.796866</td>\n",
       "      <td>0.082911</td>\n",
       "      <td>7</td>\n",
       "      <td>7</td>\n",
       "      <td>7</td>\n",
       "    </tr>\n",
       "    <tr>\n",
       "      <th>23</th>\n",
       "      <td>RandomForestRegressor</td>\n",
       "      <td>0.524559</td>\n",
       "      <td>0.696095</td>\n",
       "      <td>0.798431</td>\n",
       "      <td>0.083524</td>\n",
       "      <td>7</td>\n",
       "      <td>5</td>\n",
       "      <td>7</td>\n",
       "    </tr>\n",
       "    <tr>\n",
       "      <th>26</th>\n",
       "      <td>RandomForestRegressor</td>\n",
       "      <td>0.539997</td>\n",
       "      <td>0.692389</td>\n",
       "      <td>0.784354</td>\n",
       "      <td>0.075728</td>\n",
       "      <td>10</td>\n",
       "      <td>5</td>\n",
       "      <td>7</td>\n",
       "    </tr>\n",
       "    <tr>\n",
       "      <th>22</th>\n",
       "      <td>RandomForestRegressor</td>\n",
       "      <td>0.522382</td>\n",
       "      <td>0.690148</td>\n",
       "      <td>0.789436</td>\n",
       "      <td>0.082027</td>\n",
       "      <td>7</td>\n",
       "      <td>4</td>\n",
       "      <td>7</td>\n",
       "    </tr>\n",
       "    <tr>\n",
       "      <th>25</th>\n",
       "      <td>RandomForestRegressor</td>\n",
       "      <td>0.542521</td>\n",
       "      <td>0.685028</td>\n",
       "      <td>0.778389</td>\n",
       "      <td>0.072953</td>\n",
       "      <td>10</td>\n",
       "      <td>4</td>\n",
       "      <td>7</td>\n",
       "    </tr>\n",
       "    <tr>\n",
       "      <th>19</th>\n",
       "      <td>RandomForestRegressor</td>\n",
       "      <td>0.543205</td>\n",
       "      <td>0.66167</td>\n",
       "      <td>0.773212</td>\n",
       "      <td>0.071621</td>\n",
       "      <td>3</td>\n",
       "      <td>4</td>\n",
       "      <td>7</td>\n",
       "    </tr>\n",
       "    <tr>\n",
       "      <th>20</th>\n",
       "      <td>RandomForestRegressor</td>\n",
       "      <td>0.543205</td>\n",
       "      <td>0.66167</td>\n",
       "      <td>0.773212</td>\n",
       "      <td>0.071621</td>\n",
       "      <td>3</td>\n",
       "      <td>5</td>\n",
       "      <td>7</td>\n",
       "    </tr>\n",
       "    <tr>\n",
       "      <th>21</th>\n",
       "      <td>RandomForestRegressor</td>\n",
       "      <td>0.543205</td>\n",
       "      <td>0.66167</td>\n",
       "      <td>0.773212</td>\n",
       "      <td>0.071621</td>\n",
       "      <td>3</td>\n",
       "      <td>7</td>\n",
       "      <td>7</td>\n",
       "    </tr>\n",
       "    <tr>\n",
       "      <th>1</th>\n",
       "      <td>ExtraTreesRegressor</td>\n",
       "      <td>0.579534</td>\n",
       "      <td>0.658132</td>\n",
       "      <td>0.722843</td>\n",
       "      <td>0.055987</td>\n",
       "      <td>3</td>\n",
       "      <td>5</td>\n",
       "      <td>7</td>\n",
       "    </tr>\n",
       "    <tr>\n",
       "      <th>2</th>\n",
       "      <td>ExtraTreesRegressor</td>\n",
       "      <td>0.579534</td>\n",
       "      <td>0.658132</td>\n",
       "      <td>0.722843</td>\n",
       "      <td>0.055987</td>\n",
       "      <td>3</td>\n",
       "      <td>7</td>\n",
       "      <td>7</td>\n",
       "    </tr>\n",
       "    <tr>\n",
       "      <th>0</th>\n",
       "      <td>ExtraTreesRegressor</td>\n",
       "      <td>0.579534</td>\n",
       "      <td>0.658132</td>\n",
       "      <td>0.722843</td>\n",
       "      <td>0.055987</td>\n",
       "      <td>3</td>\n",
       "      <td>4</td>\n",
       "      <td>7</td>\n",
       "    </tr>\n",
       "  </tbody>\n",
       "</table>\n",
       "</div>"
      ],
      "text/plain": [
       "                    estimator min_score mean_score max_score std_score  \\\n",
       "12  GradientBoostingRegressor  0.610738   0.760618  0.807907  0.067881   \n",
       "6   GradientBoostingRegressor  0.528962   0.755841  0.822732  0.103223   \n",
       "8   GradientBoostingRegressor  0.528962   0.755424  0.822732  0.102862   \n",
       "13  GradientBoostingRegressor   0.59896   0.754889  0.810252   0.07106   \n",
       "10  GradientBoostingRegressor  0.598433    0.75486  0.816733  0.071386   \n",
       "11  GradientBoostingRegressor  0.591726   0.750328  0.815616  0.072757   \n",
       "18           LinearRegression  0.616022    0.74968  0.817007   0.06982   \n",
       "16  GradientBoostingRegressor  0.627971   0.747726  0.803854  0.057732   \n",
       "17  GradientBoostingRegressor  0.624305   0.745066  0.805475  0.059174   \n",
       "7   GradientBoostingRegressor  0.486392   0.744606  0.831732  0.116949   \n",
       "9   GradientBoostingRegressor  0.468154   0.743108   0.83038  0.124035   \n",
       "4         ExtraTreesRegressor  0.613385   0.737436  0.808502  0.060008   \n",
       "14  GradientBoostingRegressor  0.590687   0.731321  0.784601  0.066112   \n",
       "15  GradientBoostingRegressor  0.585464   0.728592  0.785151  0.067492   \n",
       "3         ExtraTreesRegressor  0.570455   0.726893  0.777038  0.071549   \n",
       "5         ExtraTreesRegressor  0.598037   0.721298  0.774648  0.062765   \n",
       "27      RandomForestRegressor  0.544448   0.698383      0.79  0.075904   \n",
       "24      RandomForestRegressor  0.526935   0.697971  0.796866  0.082911   \n",
       "23      RandomForestRegressor  0.524559   0.696095  0.798431  0.083524   \n",
       "26      RandomForestRegressor  0.539997   0.692389  0.784354  0.075728   \n",
       "22      RandomForestRegressor  0.522382   0.690148  0.789436  0.082027   \n",
       "25      RandomForestRegressor  0.542521   0.685028  0.778389  0.072953   \n",
       "19      RandomForestRegressor  0.543205    0.66167  0.773212  0.071621   \n",
       "20      RandomForestRegressor  0.543205    0.66167  0.773212  0.071621   \n",
       "21      RandomForestRegressor  0.543205    0.66167  0.773212  0.071621   \n",
       "1         ExtraTreesRegressor  0.579534   0.658132  0.722843  0.055987   \n",
       "2         ExtraTreesRegressor  0.579534   0.658132  0.722843  0.055987   \n",
       "0         ExtraTreesRegressor  0.579534   0.658132  0.722843  0.055987   \n",
       "\n",
       "   model__max_depth model__min_samples_split model__n_estimators  \n",
       "12                7                        7                  50  \n",
       "6                 3                        5                  50  \n",
       "8                 3                        7                  50  \n",
       "13                7                        7                 100  \n",
       "10                7                        5                  50  \n",
       "11                7                        5                 100  \n",
       "18              NaN                      NaN                 NaN  \n",
       "16               10                        7                  50  \n",
       "17               10                        7                 100  \n",
       "7                 3                        5                 100  \n",
       "9                 3                        7                 100  \n",
       "4                 7                        5                   7  \n",
       "14               10                        5                  50  \n",
       "15               10                        5                 100  \n",
       "3                 7                        4                   7  \n",
       "5                 7                        7                   7  \n",
       "27               10                        7                   7  \n",
       "24                7                        7                   7  \n",
       "23                7                        5                   7  \n",
       "26               10                        5                   7  \n",
       "22                7                        4                   7  \n",
       "25               10                        4                   7  \n",
       "19                3                        4                   7  \n",
       "20                3                        5                   7  \n",
       "21                3                        7                   7  \n",
       "1                 3                        5                   7  \n",
       "2                 3                        7                   7  \n",
       "0                 3                        4                   7  "
      ]
     },
     "execution_count": 33,
     "metadata": {},
     "output_type": "execute_result"
    }
   ],
   "source": [
    "grid_search_summary, grid_search_pipelines = search.score_summary(sort_by='mean_score')\n",
    "grid_search_summary"
   ]
  },
  {
   "cell_type": "code",
   "execution_count": 34,
   "metadata": {},
   "outputs": [
    {
     "data": {
      "text/plain": [
       "'GradientBoostingRegressor'"
      ]
     },
     "execution_count": 34,
     "metadata": {},
     "output_type": "execute_result"
    }
   ],
   "source": [
    "best_model = grid_search_summary.iloc[0,0]\n",
    "best_model"
   ]
  },
  {
   "cell_type": "code",
   "execution_count": 29,
   "metadata": {},
   "outputs": [
    {
     "data": {
      "text/html": [
       "<style>#sk-container-id-3 {color: black;}#sk-container-id-3 pre{padding: 0;}#sk-container-id-3 div.sk-toggleable {background-color: white;}#sk-container-id-3 label.sk-toggleable__label {cursor: pointer;display: block;width: 100%;margin-bottom: 0;padding: 0.3em;box-sizing: border-box;text-align: center;}#sk-container-id-3 label.sk-toggleable__label-arrow:before {content: \"▸\";float: left;margin-right: 0.25em;color: #696969;}#sk-container-id-3 label.sk-toggleable__label-arrow:hover:before {color: black;}#sk-container-id-3 div.sk-estimator:hover label.sk-toggleable__label-arrow:before {color: black;}#sk-container-id-3 div.sk-toggleable__content {max-height: 0;max-width: 0;overflow: hidden;text-align: left;background-color: #f0f8ff;}#sk-container-id-3 div.sk-toggleable__content pre {margin: 0.2em;color: black;border-radius: 0.25em;background-color: #f0f8ff;}#sk-container-id-3 input.sk-toggleable__control:checked~div.sk-toggleable__content {max-height: 200px;max-width: 100%;overflow: auto;}#sk-container-id-3 input.sk-toggleable__control:checked~label.sk-toggleable__label-arrow:before {content: \"▾\";}#sk-container-id-3 div.sk-estimator input.sk-toggleable__control:checked~label.sk-toggleable__label {background-color: #d4ebff;}#sk-container-id-3 div.sk-label input.sk-toggleable__control:checked~label.sk-toggleable__label {background-color: #d4ebff;}#sk-container-id-3 input.sk-hidden--visually {border: 0;clip: rect(1px 1px 1px 1px);clip: rect(1px, 1px, 1px, 1px);height: 1px;margin: -1px;overflow: hidden;padding: 0;position: absolute;width: 1px;}#sk-container-id-3 div.sk-estimator {font-family: monospace;background-color: #f0f8ff;border: 1px dotted black;border-radius: 0.25em;box-sizing: border-box;margin-bottom: 0.5em;}#sk-container-id-3 div.sk-estimator:hover {background-color: #d4ebff;}#sk-container-id-3 div.sk-parallel-item::after {content: \"\";width: 100%;border-bottom: 1px solid gray;flex-grow: 1;}#sk-container-id-3 div.sk-label:hover label.sk-toggleable__label {background-color: #d4ebff;}#sk-container-id-3 div.sk-serial::before {content: \"\";position: absolute;border-left: 1px solid gray;box-sizing: border-box;top: 0;bottom: 0;left: 50%;z-index: 0;}#sk-container-id-3 div.sk-serial {display: flex;flex-direction: column;align-items: center;background-color: white;padding-right: 0.2em;padding-left: 0.2em;position: relative;}#sk-container-id-3 div.sk-item {position: relative;z-index: 1;}#sk-container-id-3 div.sk-parallel {display: flex;align-items: stretch;justify-content: center;background-color: white;position: relative;}#sk-container-id-3 div.sk-item::before, #sk-container-id-3 div.sk-parallel-item::before {content: \"\";position: absolute;border-left: 1px solid gray;box-sizing: border-box;top: 0;bottom: 0;left: 50%;z-index: -1;}#sk-container-id-3 div.sk-parallel-item {display: flex;flex-direction: column;z-index: 1;position: relative;background-color: white;}#sk-container-id-3 div.sk-parallel-item:first-child::after {align-self: flex-end;width: 50%;}#sk-container-id-3 div.sk-parallel-item:last-child::after {align-self: flex-start;width: 50%;}#sk-container-id-3 div.sk-parallel-item:only-child::after {width: 0;}#sk-container-id-3 div.sk-dashed-wrapped {border: 1px dashed gray;margin: 0 0.4em 0.5em 0.4em;box-sizing: border-box;padding-bottom: 0.4em;background-color: white;}#sk-container-id-3 div.sk-label label {font-family: monospace;font-weight: bold;display: inline-block;line-height: 1.2em;}#sk-container-id-3 div.sk-label-container {text-align: center;}#sk-container-id-3 div.sk-container {/* jupyter's `normalize.less` sets `[hidden] { display: none; }` but bootstrap.min.css set `[hidden] { display: none !important; }` so we also need the `!important` here to be able to override the default hidden behavior on the sphinx rendered scikit-learn.org. See: https://github.com/scikit-learn/scikit-learn/issues/21755 */display: inline-block !important;position: relative;}#sk-container-id-3 div.sk-text-repr-fallback {display: none;}</style><div id=\"sk-container-id-3\" class=\"sk-top-container\"><div class=\"sk-text-repr-fallback\"><pre>Pipeline(steps=[(&#x27;OrdinalCategoricalEncoder&#x27;,\n",
       "                 OrdinalEncoder(encoding_method=&#x27;arbitrary&#x27;,\n",
       "                                variables=[&#x27;KitchenQual&#x27;, &#x27;GarageFinish&#x27;,\n",
       "                                           &#x27;BsmtFinType1&#x27;, &#x27;BsmtExposure&#x27;])),\n",
       "                (&#x27;YeoJohnsonTransformer&#x27;,\n",
       "                 YeoJohnsonTransformer(variables=[&#x27;1stFlrSF&#x27;, &#x27;GrLivArea&#x27;,\n",
       "                                                  &#x27;LotArea&#x27;, &#x27;LotFrontage&#x27;])),\n",
       "                (&#x27;SmartCorrelatedSelection&#x27;,\n",
       "                 SmartCorrelatedSelection(method=&#x27;spearman&#x27;,\n",
       "                                          selection_method=&#x27;variance&#x27;,\n",
       "                                          threshold=0.6)),\n",
       "                (&#x27;feat_scaling&#x27;, StandardScaler()),\n",
       "                (&#x27;feat_selection&#x27;,\n",
       "                 SelectFromModel(estimator=GradientBoostingRegressor(random_state=0))),\n",
       "                (&#x27;model&#x27;,\n",
       "                 GradientBoostingRegressor(max_depth=7, min_samples_split=7,\n",
       "                                           n_estimators=50, random_state=0))])</pre><b>In a Jupyter environment, please rerun this cell to show the HTML representation or trust the notebook. <br />On GitHub, the HTML representation is unable to render, please try loading this page with nbviewer.org.</b></div><div class=\"sk-container\" hidden><div class=\"sk-item sk-dashed-wrapped\"><div class=\"sk-label-container\"><div class=\"sk-label sk-toggleable\"><input class=\"sk-toggleable__control sk-hidden--visually\" id=\"sk-estimator-id-19\" type=\"checkbox\" ><label for=\"sk-estimator-id-19\" class=\"sk-toggleable__label sk-toggleable__label-arrow\">Pipeline</label><div class=\"sk-toggleable__content\"><pre>Pipeline(steps=[(&#x27;OrdinalCategoricalEncoder&#x27;,\n",
       "                 OrdinalEncoder(encoding_method=&#x27;arbitrary&#x27;,\n",
       "                                variables=[&#x27;KitchenQual&#x27;, &#x27;GarageFinish&#x27;,\n",
       "                                           &#x27;BsmtFinType1&#x27;, &#x27;BsmtExposure&#x27;])),\n",
       "                (&#x27;YeoJohnsonTransformer&#x27;,\n",
       "                 YeoJohnsonTransformer(variables=[&#x27;1stFlrSF&#x27;, &#x27;GrLivArea&#x27;,\n",
       "                                                  &#x27;LotArea&#x27;, &#x27;LotFrontage&#x27;])),\n",
       "                (&#x27;SmartCorrelatedSelection&#x27;,\n",
       "                 SmartCorrelatedSelection(method=&#x27;spearman&#x27;,\n",
       "                                          selection_method=&#x27;variance&#x27;,\n",
       "                                          threshold=0.6)),\n",
       "                (&#x27;feat_scaling&#x27;, StandardScaler()),\n",
       "                (&#x27;feat_selection&#x27;,\n",
       "                 SelectFromModel(estimator=GradientBoostingRegressor(random_state=0))),\n",
       "                (&#x27;model&#x27;,\n",
       "                 GradientBoostingRegressor(max_depth=7, min_samples_split=7,\n",
       "                                           n_estimators=50, random_state=0))])</pre></div></div></div><div class=\"sk-serial\"><div class=\"sk-item\"><div class=\"sk-estimator sk-toggleable\"><input class=\"sk-toggleable__control sk-hidden--visually\" id=\"sk-estimator-id-20\" type=\"checkbox\" ><label for=\"sk-estimator-id-20\" class=\"sk-toggleable__label sk-toggleable__label-arrow\">OrdinalEncoder</label><div class=\"sk-toggleable__content\"><pre>OrdinalEncoder(encoding_method=&#x27;arbitrary&#x27;,\n",
       "               variables=[&#x27;KitchenQual&#x27;, &#x27;GarageFinish&#x27;, &#x27;BsmtFinType1&#x27;,\n",
       "                          &#x27;BsmtExposure&#x27;])</pre></div></div></div><div class=\"sk-item\"><div class=\"sk-estimator sk-toggleable\"><input class=\"sk-toggleable__control sk-hidden--visually\" id=\"sk-estimator-id-21\" type=\"checkbox\" ><label for=\"sk-estimator-id-21\" class=\"sk-toggleable__label sk-toggleable__label-arrow\">YeoJohnsonTransformer</label><div class=\"sk-toggleable__content\"><pre>YeoJohnsonTransformer(variables=[&#x27;1stFlrSF&#x27;, &#x27;GrLivArea&#x27;, &#x27;LotArea&#x27;,\n",
       "                                 &#x27;LotFrontage&#x27;])</pre></div></div></div><div class=\"sk-item\"><div class=\"sk-estimator sk-toggleable\"><input class=\"sk-toggleable__control sk-hidden--visually\" id=\"sk-estimator-id-22\" type=\"checkbox\" ><label for=\"sk-estimator-id-22\" class=\"sk-toggleable__label sk-toggleable__label-arrow\">SmartCorrelatedSelection</label><div class=\"sk-toggleable__content\"><pre>SmartCorrelatedSelection(method=&#x27;spearman&#x27;, selection_method=&#x27;variance&#x27;,\n",
       "                         threshold=0.6)</pre></div></div></div><div class=\"sk-item\"><div class=\"sk-estimator sk-toggleable\"><input class=\"sk-toggleable__control sk-hidden--visually\" id=\"sk-estimator-id-23\" type=\"checkbox\" ><label for=\"sk-estimator-id-23\" class=\"sk-toggleable__label sk-toggleable__label-arrow\">StandardScaler</label><div class=\"sk-toggleable__content\"><pre>StandardScaler()</pre></div></div></div><div class=\"sk-item sk-dashed-wrapped\"><div class=\"sk-label-container\"><div class=\"sk-label sk-toggleable\"><input class=\"sk-toggleable__control sk-hidden--visually\" id=\"sk-estimator-id-24\" type=\"checkbox\" ><label for=\"sk-estimator-id-24\" class=\"sk-toggleable__label sk-toggleable__label-arrow\">feat_selection: SelectFromModel</label><div class=\"sk-toggleable__content\"><pre>SelectFromModel(estimator=GradientBoostingRegressor(random_state=0))</pre></div></div></div><div class=\"sk-parallel\"><div class=\"sk-parallel-item\"><div class=\"sk-item\"><div class=\"sk-label-container\"><div class=\"sk-label sk-toggleable\"><input class=\"sk-toggleable__control sk-hidden--visually\" id=\"sk-estimator-id-25\" type=\"checkbox\" ><label for=\"sk-estimator-id-25\" class=\"sk-toggleable__label sk-toggleable__label-arrow\">estimator: GradientBoostingRegressor</label><div class=\"sk-toggleable__content\"><pre>GradientBoostingRegressor(random_state=0)</pre></div></div></div><div class=\"sk-serial\"><div class=\"sk-item\"><div class=\"sk-estimator sk-toggleable\"><input class=\"sk-toggleable__control sk-hidden--visually\" id=\"sk-estimator-id-26\" type=\"checkbox\" ><label for=\"sk-estimator-id-26\" class=\"sk-toggleable__label sk-toggleable__label-arrow\">GradientBoostingRegressor</label><div class=\"sk-toggleable__content\"><pre>GradientBoostingRegressor(random_state=0)</pre></div></div></div></div></div></div></div></div><div class=\"sk-item\"><div class=\"sk-estimator sk-toggleable\"><input class=\"sk-toggleable__control sk-hidden--visually\" id=\"sk-estimator-id-27\" type=\"checkbox\" ><label for=\"sk-estimator-id-27\" class=\"sk-toggleable__label sk-toggleable__label-arrow\">GradientBoostingRegressor</label><div class=\"sk-toggleable__content\"><pre>GradientBoostingRegressor(max_depth=7, min_samples_split=7, n_estimators=50,\n",
       "                          random_state=0)</pre></div></div></div></div></div></div></div>"
      ],
      "text/plain": [
       "Pipeline(steps=[('OrdinalCategoricalEncoder',\n",
       "                 OrdinalEncoder(encoding_method='arbitrary',\n",
       "                                variables=['KitchenQual', 'GarageFinish',\n",
       "                                           'BsmtFinType1', 'BsmtExposure'])),\n",
       "                ('YeoJohnsonTransformer',\n",
       "                 YeoJohnsonTransformer(variables=['1stFlrSF', 'GrLivArea',\n",
       "                                                  'LotArea', 'LotFrontage'])),\n",
       "                ('SmartCorrelatedSelection',\n",
       "                 SmartCorrelatedSelection(method='spearman',\n",
       "                                          selection_method='variance',\n",
       "                                          threshold=0.6)),\n",
       "                ('feat_scaling', StandardScaler()),\n",
       "                ('feat_selection',\n",
       "                 SelectFromModel(estimator=GradientBoostingRegressor(random_state=0))),\n",
       "                ('model',\n",
       "                 GradientBoostingRegressor(max_depth=7, min_samples_split=7,\n",
       "                                           n_estimators=50, random_state=0))])"
      ]
     },
     "execution_count": 29,
     "metadata": {},
     "output_type": "execute_result"
    }
   ],
   "source": [
    "best_regressor_pipeline = grid_search_pipelines[best_model].best_estimator_\n",
    "best_regressor_pipeline"
   ]
  },
  {
   "cell_type": "markdown",
   "metadata": {},
   "source": [
    "NOTE"
   ]
  },
  {
   "cell_type": "markdown",
   "metadata": {},
   "source": [
    "* You may add as many sections as you want, as long as they support your project workflow.\n",
    "* All notebook's cells should be run top-down (you can't create a dynamic wherein a given point you need to go back to a previous cell to execute some task, like go back to a previous cell and refresh a variable content)"
   ]
  },
  {
   "cell_type": "markdown",
   "metadata": {},
   "source": [
    "---"
   ]
  },
  {
   "cell_type": "markdown",
   "metadata": {
    "id": "ltNetd085qHf"
   },
   "source": [
    "# Push files to Repo"
   ]
  },
  {
   "cell_type": "markdown",
   "metadata": {},
   "source": [
    "* If you do not need to push files to Repo, you may replace this section with \"Conclusions and Next Steps\" and state your conclusions and next steps."
   ]
  },
  {
   "cell_type": "code",
   "execution_count": null,
   "metadata": {
    "id": "aKlnIozA4eQO",
    "outputId": "fd09bc1f-adb1-4511-f6ce-492a6af570c0"
   },
   "outputs": [],
   "source": [
    "import os\n",
    "try:\n",
    "  # create here your folder\n",
    "  # os.makedirs(name='')\n",
    "except Exception as e:\n",
    "  print(e)\n"
   ]
  }
 ],
 "metadata": {
  "accelerator": "GPU",
  "colab": {
   "name": "Data Practitioner Jupyter Notebook.ipynb",
   "provenance": [],
   "toc_visible": true
  },
  "kernelspec": {
   "display_name": "Python 3",
   "language": "python",
   "name": "python3"
  },
  "language_info": {
   "codemirror_mode": {
    "name": "ipython",
    "version": 3
   },
   "file_extension": ".py",
   "mimetype": "text/x-python",
   "name": "python",
   "nbconvert_exporter": "python",
   "pygments_lexer": "ipython3",
   "version": "3.8.18"
  },
  "orig_nbformat": 2
 },
 "nbformat": 4,
 "nbformat_minor": 2
}
